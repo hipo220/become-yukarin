{
 "cells": [
  {
   "cell_type": "code",
   "execution_count": 7,
   "metadata": {},
   "outputs": [],
   "source": [
    "import argparse\n",
    "import multiprocessing\n",
    "from pathlib import Path\n",
    "from pprint import pprint\n",
    "\n",
    "import numpy\n",
    "\n",
    "from become_yukarin.acoustic_converter import AcousticConverter\n",
    "from become_yukarin.config.config import create_from_json as create_config\n",
    "from become_yukarin.data_struct import AcousticFeature\n",
    "from become_yukarin.dataset.dataset import AcousticFeatureLoadProcess\n",
    "from become_yukarin.dataset.dataset import AcousticFeatureProcess\n",
    "from become_yukarin.dataset.dataset import AcousticFeatureSaveProcess\n",
    "from become_yukarin.dataset.dataset import WaveFileLoadProcess\n",
    "from become_yukarin.dataset.utility import MFCCAligner\n",
    "from become_yukarin.param import AcousticFeatureParam\n",
    "from become_yukarin.param import VoiceParam\n",
    "\n",
    "import matplotlib.pyplot as plt\n",
    "from IPython.display import Audio\n",
    "%matplotlib inline"
   ]
  },
  {
   "cell_type": "code",
   "execution_count": 2,
   "metadata": {},
   "outputs": [],
   "source": [
    "path_directory = Path('/mnt/dwango/hiroshiba/become-yukarin/dataset/aligned-feature/aligned-yukari-pause-hiho-pause-atr-notopdb-smart-order8-preconvert/hiho-pause/')\n",
    "acoustic_feature_load_process = AcousticFeatureLoadProcess(validate=False)"
   ]
  },
  {
   "cell_type": "code",
   "execution_count": 5,
   "metadata": {},
   "outputs": [],
   "source": [
    "f0_list = []\n",
    "for path in path_directory.glob('hiho-pause-atr-*.npy'):\n",
    "    feature = acoustic_feature_load_process(path)\n",
    "    f0_list.append(feature.f0[feature.voiced])  # remove unvoiced\n",
    "\n",
    "f0s = numpy.concatenate(f0_list)"
   ]
  },
  {
   "cell_type": "code",
   "execution_count": 18,
   "metadata": {},
   "outputs": [
    {
     "name": "stdout",
     "output_type": "stream",
     "text": [
      "min 58.5114\n",
      "max 656.013\n",
      "0.01% 65.3572038666\n",
      "0.1% 70.7347505264\n",
      "1% 77.3837511444\n",
      "99.99% 523.6955354\n",
      "99.9% 291.841960754\n",
      "99% 202.019358521\n"
     ]
    },
    {
     "data": {
      "image/png": "[encoded data removed]",
      "text/plain": [
       "<matplotlib.figure.Figure at 0x7f9295a60860>"
      ]
     },
     "metadata": {},
     "output_type": "display_data"
    }
   ],
   "source": [
    "fig = plt.figure(figsize=[16, 3])\n",
    "\n",
    "_ = plt.hist(f0s, bins=300, log=True)\n",
    "print('min', f0s.min())\n",
    "print('max', f0s.max())\n",
    "\n",
    "print('0.01%', numpy.percentile(f0s, 0.01))\n",
    "print('0.1%', numpy.percentile(f0s, 0.1))\n",
    "print('1%', numpy.percentile(f0s, 1))\n",
    "\n",
    "print('99.99%', numpy.percentile(f0s, 99.99))\n",
    "print('99.9%', numpy.percentile(f0s, 99.9))\n",
    "print('99%', numpy.percentile(f0s, 99))"
   ]
  },
  {
   "cell_type": "code",
   "execution_count": null,
   "metadata": {},
   "outputs": [],
   "source": []
  }
 ],
 "metadata": {
  "kernelspec": {
   "display_name": "Python 3",
   "language": "python",
   "name": "python3"
  },
  "language_info": {
   "codemirror_mode": {
    "name": "ipython",
    "version": 3
   },
   "file_extension": ".py",
   "mimetype": "text/x-python",
   "name": "python",
   "nbconvert_exporter": "python",
   "pygments_lexer": "ipython3",
   "version": "3.6.3"
  }
 },
 "nbformat": 4,
 "nbformat_minor": 2
}
